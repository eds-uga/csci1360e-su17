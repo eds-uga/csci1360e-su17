{
 "cells": [
  {
   "cell_type": "markdown",
   "metadata": {
    "slideshow": {
     "slide_type": "slide"
    }
   },
   "source": [
    "# Midterm Review\n",
    "\n",
    "CSCI 1360E: Foundations for Informatics and Analytics"
   ]
  },
  {
   "cell_type": "markdown",
   "metadata": {
    "slideshow": {
     "slide_type": "slide"
    }
   },
   "source": [
    "## Material"
   ]
  },
  {
   "cell_type": "markdown",
   "metadata": {},
   "source": [
    " - Anything in Lectures 1 through 10 are fair game!"
   ]
  },
  {
   "cell_type": "markdown",
   "metadata": {},
   "source": [
    " - Anything in assignments 1 through 4 are fair game!"
   ]
  },
  {
   "cell_type": "markdown",
   "metadata": {
    "slideshow": {
     "slide_type": "slide"
    }
   },
   "source": [
    "## Topics"
   ]
  },
  {
   "cell_type": "markdown",
   "metadata": {},
   "source": [
    "Data Science\n",
    " - Definition\n",
    " - Intrinsic interdisciplinarity\n",
    " - \"Greater Data Science\""
   ]
  },
  {
   "cell_type": "markdown",
   "metadata": {
    "slideshow": {
     "slide_type": "slide"
    }
   },
   "source": [
    "Python Language\n",
    " - Philosophy\n",
    " - Compiled vs Interpreted\n",
    " - Variables, literals, types, operators (arithmetic and comparative)\n",
    " - Casting, typing system\n",
    " - Syntax (role of whitespace)"
   ]
  },
  {
   "cell_type": "markdown",
   "metadata": {
    "slideshow": {
     "slide_type": "slide"
    }
   },
   "source": [
    "Data Structures\n",
    " - Collections (lists, sets, tuples, dictionaries)\n",
    " - Iterators, generators, and list comprehensions\n",
    " - Loops (`for`, `while`), loop control (`break`, `continue`), and utility looping functions (`zip`, `enumerate`)\n",
    " - Variable unpacking\n",
    " - Indexing and slicing\n",
    " - Differences in indexing between collection types (tuples versus sets, lists versus dictionaries)"
   ]
  },
  {
   "cell_type": "markdown",
   "metadata": {
    "slideshow": {
     "slide_type": "slide"
    }
   },
   "source": [
    "Conditionals\n",
    " - `if` / `elif` / `else` structure\n",
    " - Boolean algebra (stringing together multiple conditions with `or` and `and`)"
   ]
  },
  {
   "cell_type": "markdown",
   "metadata": {},
   "source": [
    "Exception handling\n",
    " - `try` / `except` structure, and what goes in each block"
   ]
  },
  {
   "cell_type": "markdown",
   "metadata": {
    "slideshow": {
     "slide_type": "slide"
    }
   },
   "source": [
    "Functions\n",
    " - Defining functions\n",
    " - Philosophy of a function\n",
    " - Defining versus calling (invoking) a function\n",
    " - Positional (required) versus default (optional) arguments\n",
    " - Keyword arguments\n",
    " - Functions that take any number of arguments\n",
    " - Object references, and their behaviors in Python"
   ]
  },
  {
   "cell_type": "markdown",
   "metadata": {
    "slideshow": {
     "slide_type": "slide"
    }
   },
   "source": [
    "NumPy\n",
    " - Importing external libraries\n",
    " - The NumPy `ndarray`, its properties (`.shape`), and indexing\n",
    " - NumPy submodules\n",
    " - Vectorized arithmetic in lieu of explicit loops\n",
    " - NumPy array dimensions, or *axes*, and how they relate to the `.shape` property\n",
    " - Array broadcasting, uses and rules\n",
    " - Fancy indexing with boolean and integer arrays"
   ]
  },
  {
   "cell_type": "markdown",
   "metadata": {
    "slideshow": {
     "slide_type": "slide"
    }
   },
   "source": [
    "## Midterm Logistics"
   ]
  },
  {
   "cell_type": "markdown",
   "metadata": {},
   "source": [
    " - The format will be very close to that of JupyterHub assignments (there may or may not be autograders to help)."
   ]
  },
  {
   "cell_type": "markdown",
   "metadata": {},
   "source": [
    " - It will be **90 minutes**. Don't expect any flexibility in this time limit, so plan accordingly."
   ]
  },
  {
   "cell_type": "markdown",
   "metadata": {},
   "source": [
    " - You are **NOT** allowed to use internet resources or collaborate with your classmates (enforced by the honor system), but you **ARE** allowed to use lecture and assignment materials from this course, as well as terminals in the JupyterHub environment or on your local machine."
   ]
  },
  {
   "cell_type": "markdown",
   "metadata": {},
   "source": [
    " - I will be available on Slack for questions most of the day tomorrow, from 9am until about 3pm (then will be back online around 4pm until 5pm). Shoot me a direct message if you have a conceptual / technical question relating to the midterm, and I'll do my best to answer ASAP."
   ]
  },
  {
   "cell_type": "markdown",
   "metadata": {
    "slideshow": {
     "slide_type": "slide"
    }
   },
   "source": [
    "## JupyterHub Logistics"
   ]
  },
  {
   "cell_type": "markdown",
   "metadata": {},
   "source": [
    " - The midterm will be released on JupyterHub at **12:00am on Thursday, June 29**."
   ]
  },
  {
   "cell_type": "markdown",
   "metadata": {},
   "source": [
    " - It will be collected at **12:00am on Friday, June 30**. The release and collection will be done by automated scripts, so believe me when I say there won't be any flexibility on the parts of these mechanisms."
   ]
  },
  {
   "cell_type": "markdown",
   "metadata": {},
   "source": [
    " - Within that 24-hour window, you can start the midterm (by \"Fetch\"-ing it on JupyterHub) whenever you like."
   ]
  },
  {
   "cell_type": "markdown",
   "metadata": {},
   "source": [
    " - **ONCE YOU FETCH THE MIDTERM, YOU WILL HAVE 90 MINUTES FROM THAT MOMENT TO SUBMIT THE COMPLETED MIDTERM BACK.**"
   ]
  },
  {
   "cell_type": "markdown",
   "metadata": {},
   "source": [
    " - Furthermore, it's **up to you** to keep track of that time. Look at your system clock when you click \"Fetch\", or use the timer app on your smartphone, to help you track your time use. Once the 90 minutes are up, the exam is considered late."
   ]
  },
  {
   "cell_type": "markdown",
   "metadata": {
    "slideshow": {
     "slide_type": "-"
    }
   },
   "source": [
    " - In theory, this should allow you to take the midterm when it is most convenient for you. Obviously you should probably start no later than 10:30PM tomorrow, since any submissions after midnight on Friday will be considered late, even if you started at 11:58PM."
   ]
  },
  {
   "cell_type": "markdown",
   "metadata": {
    "slideshow": {
     "slide_type": "slide"
    }
   },
   "source": [
    "## Tough Assignment Questions and Concepts"
   ]
  },
  {
   "cell_type": "markdown",
   "metadata": {},
   "source": [
    "### From A1"
   ]
  },
  {
   "cell_type": "markdown",
   "metadata": {},
   "source": [
    "**Do NOT hard-code answers!**"
   ]
  },
  {
   "cell_type": "markdown",
   "metadata": {},
   "source": [
    "For example, take the question on taking the square root of a number and converting it to a string:"
   ]
  },
  {
   "cell_type": "code",
   "execution_count": 1,
   "metadata": {
    "collapsed": true
   },
   "outputs": [],
   "source": [
    "number = 3.14159265359"
   ]
  },
  {
   "cell_type": "markdown",
   "metadata": {
    "slideshow": {
     "slide_type": "fragment"
    }
   },
   "source": [
    "Answering this is *not* simply taking what's in the autograder and copy-pasting it into your solution:"
   ]
  },
  {
   "cell_type": "code",
   "execution_count": 2,
   "metadata": {
    "collapsed": true
   },
   "outputs": [],
   "source": [
    "number = \"1.7724538509055743\""
   ]
  },
  {
   "cell_type": "markdown",
   "metadata": {
    "slideshow": {
     "slide_type": "slide"
    }
   },
   "source": [
    "The whole point is that your code should *generalize* to any possible input."
   ]
  },
  {
   "cell_type": "markdown",
   "metadata": {},
   "source": [
    "To that end, you want to perform the actual operations required: as stated in the directions, this involves taking the square root and converting the answer to a string:"
   ]
  },
  {
   "cell_type": "code",
   "execution_count": 3,
   "metadata": {
    "collapsed": true,
    "slideshow": {
     "slide_type": "-"
    }
   },
   "outputs": [],
   "source": [
    "number = 3.14159265359\n",
    "number = number ** 0.5  # Raise to the 0.5, which means square root.\n",
    "number = str(number)    # Cast to a string."
   ]
  },
  {
   "cell_type": "markdown",
   "metadata": {
    "slideshow": {
     "slide_type": "slide"
    }
   },
   "source": [
    "**With great looping power comes great looping responsibility**."
   ]
  },
  {
   "cell_type": "markdown",
   "metadata": {},
   "source": [
    "The question that involved finding the first negative number in a list of numbers gave a lot of folks problems. By that, I mean folks combined simultaneous `for` and `while` loops, inadvertently creating more problems with some very difficult-to-follow program behavior."
   ]
  },
  {
   "cell_type": "markdown",
   "metadata": {},
   "source": [
    "Thing to remember: **both loops can solve the same problems**, but they lend themselves to different ones. So in almost all cases, you'll only need 1 of them to solve a given problem."
   ]
  },
  {
   "cell_type": "markdown",
   "metadata": {},
   "source": [
    "In this case: if you need to perform operations on every element of a list, `for` is your friend. If you need to do something repeatedly *until some condition is satisfied*, `while` is your operator. This question better fits the latter than the former."
   ]
  },
  {
   "cell_type": "code",
   "execution_count": 4,
   "metadata": {
    "collapsed": true,
    "slideshow": {
     "slide_type": "slide"
    }
   },
   "outputs": [],
   "source": [
    "def first_negative(numbers):\n",
    "    num = 0\n",
    "    \n",
    "    index = 0\n",
    "    while numbers[index] > 0:\n",
    "        index += 1\n",
    "    num = numbers[index]\n",
    "    \n",
    "    return num"
   ]
  },
  {
   "cell_type": "code",
   "execution_count": 5,
   "metadata": {
    "slideshow": {
     "slide_type": "fragment"
    }
   },
   "outputs": [
    {
     "data": {
      "text/plain": [
       "-1"
      ]
     },
     "execution_count": 5,
     "metadata": {},
     "output_type": "execute_result"
    }
   ],
   "source": [
    "first_negative([1, 2, 3, -1])"
   ]
  },
  {
   "cell_type": "code",
   "execution_count": 6,
   "metadata": {
    "slideshow": {
     "slide_type": "fragment"
    }
   },
   "outputs": [
    {
     "data": {
      "text/plain": [
       "-10"
      ]
     },
     "execution_count": 6,
     "metadata": {},
     "output_type": "execute_result"
    }
   ],
   "source": [
    "first_negative([10, -10, -100, -50, -75, 10])"
   ]
  },
  {
   "cell_type": "markdown",
   "metadata": {
    "slideshow": {
     "slide_type": "slide"
    }
   },
   "source": [
    "### From A2"
   ]
  },
  {
   "cell_type": "markdown",
   "metadata": {},
   "source": [
    "**`zip()` is an amazing mechanism for looping with MULTIPLE collections at once**"
   ]
  },
  {
   "cell_type": "markdown",
   "metadata": {},
   "source": [
    "There were very few students who deigned to use `zip()`; if you can learn how to use it, it will make your life considerably easier whenever you need to loop through multiple lists at the same time."
   ]
  },
  {
   "cell_type": "markdown",
   "metadata": {
    "slideshow": {
     "slide_type": "slide"
    }
   },
   "source": [
    "Take the question on computing magnitudes of 3D vectors."
   ]
  },
  {
   "cell_type": "code",
   "execution_count": 7,
   "metadata": {
    "collapsed": true
   },
   "outputs": [],
   "source": [
    "def compute_3dmagnitudes(X, Y, Z):\n",
    "    magnitudes = []\n",
    "    \n",
    "    ### BEGIN SOLUTION\n",
    "    \n",
    "    ### END SOLUTION\n",
    "    \n",
    "    return magnitudes"
   ]
  },
  {
   "cell_type": "markdown",
   "metadata": {},
   "source": [
    "Since all three lists--`X`, `Y`, and `Z`--are the same length, you could run a `for` loop with an index through one of them, and use that index across all three. That would work just fine."
   ]
  },
  {
   "cell_type": "code",
   "execution_count": 8,
   "metadata": {
    "collapsed": true,
    "slideshow": {
     "slide_type": "fragment"
    }
   },
   "outputs": [],
   "source": [
    "def compute_3dmagnitudes(X, Y, Z):\n",
    "    magnitudes = []\n",
    "    \n",
    "    length = len(X)\n",
    "    for i in range(length):\n",
    "        # Pull out the corresponding (x, y, z) coordinates.\n",
    "        x = X[i]\n",
    "        y = Y[i]\n",
    "        z = Z[i]\n",
    "        \n",
    "        ### Do the magnitude computation ###\n",
    "    \n",
    "    return magnitudes"
   ]
  },
  {
   "cell_type": "markdown",
   "metadata": {},
   "source": [
    "...but it's very verbose, and can get a bit difficult to follow."
   ]
  },
  {
   "cell_type": "markdown",
   "metadata": {
    "slideshow": {
     "slide_type": "slide"
    }
   },
   "source": [
    "If, instead, you use `zip`, you don't need to worry about using `range` or computing the `len` of a list or even extracting the right `x,y,z` from each index:"
   ]
  },
  {
   "cell_type": "code",
   "execution_count": 9,
   "metadata": {
    "collapsed": true,
    "slideshow": {
     "slide_type": "fragment"
    }
   },
   "outputs": [],
   "source": [
    "def compute_3dmagnitudes(X, Y, Z):\n",
    "    magnitudes = []\n",
    "    \n",
    "    for x, y, z in zip(X, Y, Z):\n",
    "        pass\n",
    "        ### Do the magnitude computation ###\n",
    "    \n",
    "    return magnitudes"
   ]
  },
  {
   "cell_type": "markdown",
   "metadata": {},
   "source": [
    "Look how much cleaner that is!"
   ]
  },
  {
   "cell_type": "markdown",
   "metadata": {},
   "source": [
    "The `zip` function is amazing. You can certainly get along without it, as shown in the previous slide, but it handles so much of that work for you, so I encourage you to practice using it."
   ]
  },
  {
   "cell_type": "markdown",
   "metadata": {
    "slideshow": {
     "slide_type": "slide"
    }
   },
   "source": [
    "**Indentation in Python may be the most important rule of all.**"
   ]
  },
  {
   "cell_type": "markdown",
   "metadata": {},
   "source": [
    "I cannot overemphasize how important it is for your code indentation to be precise and exact."
   ]
  },
  {
   "cell_type": "markdown",
   "metadata": {},
   "source": [
    "Indentation dictates whether a line of code is part of an `if` statement or not, part of a `for` loop or not, part of a `try` block or not, even part of a function or not."
   ]
  },
  {
   "cell_type": "markdown",
   "metadata": {},
   "source": [
    "There were quite a few examples of code that was completely correct, but it wasn't indented properly--for example, it wasn't indented under a `for` loop, so the line was executed only once, *after* the `for` loop finished running."
   ]
  },
  {
   "cell_type": "markdown",
   "metadata": {
    "slideshow": {
     "slide_type": "slide"
    }
   },
   "source": [
    "### From A3"
   ]
  },
  {
   "cell_type": "markdown",
   "metadata": {},
   "source": [
    "**`if` statements don't always need an `else`.**"
   ]
  },
  {
   "cell_type": "markdown",
   "metadata": {
    "slideshow": {
     "slide_type": "fragment"
    }
   },
   "source": [
    "I saw this a lot:"
   ]
  },
  {
   "cell_type": "code",
   "execution_count": 10,
   "metadata": {
    "collapsed": true
   },
   "outputs": [],
   "source": [
    "def list_of_positive_indices(numbers):\n",
    "    indices = []\n",
    "    for index, element in enumerate(numbers):\n",
    "        if element > 0:\n",
    "            indices.append(index)\n",
    "        else:\n",
    "            pass  # Why are we here? What is our purpose? Do we even exist?\n",
    "    return indices"
   ]
  },
  {
   "cell_type": "markdown",
   "metadata": {
    "slideshow": {
     "slide_type": "slide"
    }
   },
   "source": [
    "`if` statements are adults; they can handle being short-staffed, as it were. If there's literally nothing to do in an `else` clause, you're perfectly able to omit it entirely:"
   ]
  },
  {
   "cell_type": "code",
   "execution_count": 11,
   "metadata": {
    "collapsed": true,
    "slideshow": {
     "slide_type": "fragment"
    }
   },
   "outputs": [],
   "source": [
    "def list_of_positive_indices(numbers):\n",
    "    indices = []\n",
    "    for index, element in enumerate(numbers):\n",
    "        if element > 0:\n",
    "            indices.append(index)\n",
    "    return indices"
   ]
  },
  {
   "cell_type": "markdown",
   "metadata": {
    "slideshow": {
     "slide_type": "slide"
    }
   },
   "source": [
    "**An actual example of reference versus value.**"
   ]
  },
  {
   "cell_type": "markdown",
   "metadata": {},
   "source": [
    "This was the bonus question from A3 about building a list-of-lists matrix."
   ]
  },
  {
   "cell_type": "markdown",
   "metadata": {},
   "source": [
    "Some of you had a very clever solution that *technically* worked, but would fail spectacularly the moment you actually tried to use the matrix built by the function."
   ]
  },
  {
   "cell_type": "markdown",
   "metadata": {},
   "source": [
    "In short: rather than construct a matrix of 0s one element at a time, the strategy was to pre-construct a row of 0s, and then use just 1 loop to append this pre-built list a certain number of times. "
   ]
  },
  {
   "cell_type": "markdown",
   "metadata": {
    "slideshow": {
     "slide_type": "-"
    }
   },
   "source": [
    "It was clever in that it avoided the need for nested loops, which are certainly difficult to write and understand under the best of circumstances! But you'd see some odd behavior if you tried to *use* the matrix that came out..."
   ]
  },
  {
   "cell_type": "code",
   "execution_count": 12,
   "metadata": {
    "collapsed": true,
    "slideshow": {
     "slide_type": "slide"
    }
   },
   "outputs": [],
   "source": [
    "def make_matrix(rows, cols):\n",
    "    pre_built_row = []\n",
    "    \n",
    "    # Build a single row that has <cols> 0s.\n",
    "    for j in range(cols):\n",
    "        pre_built_row.append(0)\n",
    "        \n",
    "    # Now build a list of the rows.\n",
    "    matrix = []\n",
    "    for i in range(rows):\n",
    "        matrix.append(pre_built_row)\n",
    "\n",
    "    return matrix        "
   ]
  },
  {
   "cell_type": "code",
   "execution_count": 13,
   "metadata": {},
   "outputs": [
    {
     "name": "stdout",
     "output_type": "stream",
     "text": [
      "[[0, 0, 0, 0], [0, 0, 0, 0], [0, 0, 0, 0]]\n"
     ]
    }
   ],
   "source": [
    "m = make_matrix(3, 4)\n",
    "print(m)"
   ]
  },
  {
   "cell_type": "markdown",
   "metadata": {},
   "source": [
    "Certainly *looks* ok--3 \"rows\" (i.e. lists), each with 4 0s in them. Why is this a problem?"
   ]
  },
  {
   "cell_type": "markdown",
   "metadata": {
    "slideshow": {
     "slide_type": "slide"
    }
   },
   "source": [
    "Let's try changing one of the 0s to something else. Say, change the 0 in the upper left (position 0, 0) to a 99."
   ]
  },
  {
   "cell_type": "code",
   "execution_count": 14,
   "metadata": {
    "collapsed": true
   },
   "outputs": [],
   "source": [
    "m[0][0] = 99"
   ]
  },
  {
   "cell_type": "markdown",
   "metadata": {},
   "source": [
    "Now if we print this... what do you think we'll see?"
   ]
  },
  {
   "cell_type": "code",
   "execution_count": 15,
   "metadata": {
    "slideshow": {
     "slide_type": "fragment"
    }
   },
   "outputs": [
    {
     "name": "stdout",
     "output_type": "stream",
     "text": [
      "[[99, 0, 0, 0], [99, 0, 0, 0], [99, 0, 0, 0]]\n"
     ]
    }
   ],
   "source": [
    "print(m)"
   ]
  },
  {
   "cell_type": "markdown",
   "metadata": {},
   "source": [
    "*cue The Thriller*"
   ]
  },
  {
   "cell_type": "markdown",
   "metadata": {
    "slideshow": {
     "slide_type": "slide"
    }
   },
   "source": [
    "This is a *pass-by-reference* problem. You've appended three references to the *same object*, so when you update one of them, you actually update them all."
   ]
  },
  {
   "cell_type": "markdown",
   "metadata": {
    "slideshow": {
     "slide_type": "fragment"
    }
   },
   "source": [
    "The fix is to use a nested-`for` loop to create everything on-the-fly:"
   ]
  },
  {
   "cell_type": "code",
   "execution_count": 16,
   "metadata": {
    "collapsed": true
   },
   "outputs": [],
   "source": [
    "def make_matrix(rows, cols):\n",
    "    matrix = []\n",
    "    \n",
    "    for i in range(rows):\n",
    "        matrix.append([])  # First, append an empty list for the new row.\n",
    "        for j in range(cols):\n",
    "            matrix[i].append(0)  # Now grow that empty list.\n",
    "\n",
    "    return matrix        "
   ]
  },
  {
   "cell_type": "code",
   "execution_count": 17,
   "metadata": {},
   "outputs": [
    {
     "name": "stdout",
     "output_type": "stream",
     "text": [
      "[[0, 0, 0, 0], [0, 0, 0, 0], [0, 0, 0, 0]]\n"
     ]
    }
   ],
   "source": [
    "m = make_matrix(3, 4)\n",
    "print(m)"
   ]
  },
  {
   "cell_type": "code",
   "execution_count": 18,
   "metadata": {},
   "outputs": [
    {
     "name": "stdout",
     "output_type": "stream",
     "text": [
      "[[99, 0, 0, 0], [0, 0, 0, 0], [0, 0, 0, 0]]\n"
     ]
    }
   ],
   "source": [
    "m[0][0] = 99\n",
    "print(m)"
   ]
  },
  {
   "cell_type": "markdown",
   "metadata": {
    "slideshow": {
     "slide_type": "slide"
    }
   },
   "source": [
    "### From A4"
   ]
  },
  {
   "cell_type": "markdown",
   "metadata": {},
   "source": [
    "**`len(ndarray)` versus `ndarray.shape`**"
   ]
  },
  {
   "cell_type": "markdown",
   "metadata": {},
   "source": [
    "For the question about checking that the lengths of two NumPy arrays were equal, a lot of people chose this route:"
   ]
  },
  {
   "cell_type": "code",
   "execution_count": 19,
   "metadata": {
    "collapsed": true,
    "slideshow": {
     "slide_type": "fragment"
    }
   },
   "outputs": [],
   "source": [
    "# Some test data\n",
    "import numpy as np\n",
    "x = np.random.random(10)\n",
    "y = np.random.random(10)"
   ]
  },
  {
   "cell_type": "code",
   "execution_count": 20,
   "metadata": {},
   "outputs": [
    {
     "data": {
      "text/plain": [
       "True"
      ]
     },
     "execution_count": 20,
     "metadata": {},
     "output_type": "execute_result"
    }
   ],
   "source": [
    "len(x) == len(y)"
   ]
  },
  {
   "cell_type": "markdown",
   "metadata": {},
   "source": [
    "which works, but only for *one-dimensional arrays*."
   ]
  },
  {
   "cell_type": "markdown",
   "metadata": {
    "slideshow": {
     "slide_type": "slide"
    }
   },
   "source": [
    "For anything other than 1-dimensional arrays, things get problematic:"
   ]
  },
  {
   "cell_type": "code",
   "execution_count": 21,
   "metadata": {
    "slideshow": {
     "slide_type": "fragment"
    }
   },
   "outputs": [],
   "source": [
    "x = np.random.random((5, 5))  # A 5x5 matrix\n",
    "y = np.random.random((5, 10))  # A 5x10 matrix"
   ]
  },
  {
   "cell_type": "code",
   "execution_count": 22,
   "metadata": {},
   "outputs": [
    {
     "data": {
      "text/plain": [
       "True"
      ]
     },
     "execution_count": 22,
     "metadata": {},
     "output_type": "execute_result"
    }
   ],
   "source": [
    "len(x) == len(y)"
   ]
  },
  {
   "cell_type": "markdown",
   "metadata": {},
   "source": [
    "These definitely are **not** equal in length. But that's because `len` doesn't measure *length* of matrices...it only measures the number of rows (i.e., the first axis--which in this case is 5 in both, hence it thinks they're equal)."
   ]
  },
  {
   "cell_type": "markdown",
   "metadata": {
    "slideshow": {
     "slide_type": "slide"
    }
   },
   "source": [
    "You definitely want to get into the habit of using the `.shape` property of NumPy arrays:"
   ]
  },
  {
   "cell_type": "code",
   "execution_count": 23,
   "metadata": {
    "collapsed": true,
    "slideshow": {
     "slide_type": "fragment"
    }
   },
   "outputs": [],
   "source": [
    "x = np.random.random((5, 5))  # A 5x5 matrix\n",
    "y = np.random.random((5, 10))  # A 5x10 matrix"
   ]
  },
  {
   "cell_type": "code",
   "execution_count": 24,
   "metadata": {},
   "outputs": [
    {
     "data": {
      "text/plain": [
       "False"
      ]
     },
     "execution_count": 24,
     "metadata": {},
     "output_type": "execute_result"
    }
   ],
   "source": [
    "x.shape == y.shape"
   ]
  },
  {
   "cell_type": "markdown",
   "metadata": {},
   "source": [
    "We get the answer we expect."
   ]
  },
  {
   "cell_type": "markdown",
   "metadata": {
    "slideshow": {
     "slide_type": "slide"
    }
   },
   "source": [
    "## Other Questions from the Google Hangouts Review Session"
   ]
  },
  {
   "cell_type": "markdown",
   "metadata": {
    "slideshow": {
     "slide_type": "fragment"
    }
   },
   "source": [
    "**The Tale of Two `for` Loops**"
   ]
  },
  {
   "cell_type": "code",
   "execution_count": 25,
   "metadata": {},
   "outputs": [
    {
     "name": "stdout",
     "output_type": "stream",
     "text": [
      "[0.6931832056888297, 0.6021857169653142, 0.03836475358595104, 0.3651604096030209, 0.2755364584885275, 0.30045938465583466, 0.47102308993526965, 0.8970256806073568, 0.15810029910258372, 0.21366871301862667]\n"
     ]
    }
   ],
   "source": [
    "import numpy as np\n",
    "\n",
    "# Generate a random list to work with as an example.\n",
    "some_list = np.random.random(10).tolist()\n",
    "print(some_list)"
   ]
  },
  {
   "cell_type": "markdown",
   "metadata": {
    "slideshow": {
     "slide_type": "slide"
    }
   },
   "source": [
    "1: Looping through *elements*"
   ]
  },
  {
   "cell_type": "code",
   "execution_count": 26,
   "metadata": {},
   "outputs": [
    {
     "name": "stdout",
     "output_type": "stream",
     "text": [
      "0.6931832056888297\n",
      "0.6021857169653142\n",
      "0.03836475358595104\n",
      "0.3651604096030209\n",
      "0.2755364584885275\n",
      "0.30045938465583466\n",
      "0.47102308993526965\n",
      "0.8970256806073568\n",
      "0.15810029910258372\n",
      "0.21366871301862667\n"
     ]
    }
   ],
   "source": [
    "for element in some_list:\n",
    "    print(element)"
   ]
  },
  {
   "cell_type": "markdown",
   "metadata": {
    "slideshow": {
     "slide_type": "slide"
    }
   },
   "source": [
    "2: Looping over *indices* of elements"
   ]
  },
  {
   "cell_type": "code",
   "execution_count": 27,
   "metadata": {},
   "outputs": [
    {
     "name": "stdout",
     "output_type": "stream",
     "text": [
      "0.6931832056888297\n",
      "0.6021857169653142\n",
      "0.03836475358595104\n",
      "0.3651604096030209\n",
      "0.2755364584885275\n",
      "0.30045938465583466\n",
      "0.47102308993526965\n",
      "0.8970256806073568\n",
      "0.15810029910258372\n",
      "0.21366871301862667\n"
     ]
    }
   ],
   "source": [
    "list_length = len(some_list)\n",
    "for index in range(list_length):  # [0, 1, 2, 3, 4, 5, 6, 7, 8, 9]\n",
    "    element = some_list[index]\n",
    "    print(element)"
   ]
  },
  {
   "cell_type": "markdown",
   "metadata": {
    "slideshow": {
     "slide_type": "slide"
    }
   },
   "source": [
    "In general:"
   ]
  },
  {
   "cell_type": "markdown",
   "metadata": {},
   "source": [
    " - If you don't care about list order, or where you are in the list--use \"loop by element\""
   ]
  },
  {
   "cell_type": "markdown",
   "metadata": {},
   "source": [
    " - If ordering of elements MATTERS, or where you are in the list during a loop is important--use \"loop by index\""
   ]
  },
  {
   "cell_type": "markdown",
   "metadata": {
    "slideshow": {
     "slide_type": "slide"
    }
   },
   "source": [
    "**Sliding windows for finding substrings in a longer string**"
   ]
  },
  {
   "cell_type": "markdown",
   "metadata": {},
   "source": [
    "From A4, Bonus Part A:"
   ]
  },
  {
   "cell_type": "code",
   "execution_count": 28,
   "metadata": {
    "collapsed": true
   },
   "outputs": [],
   "source": [
    "def count_substring(base_string, substring, case_insensitive = True):\n",
    "    count = 0\n",
    "    \n",
    "    if case_insensitive == True:\n",
    "        base_string = base_string.lower()\n",
    "        #base_string = base_string.upper()\n",
    "        \n",
    "    length = len(substring)\n",
    "    index = 0\n",
    "    while (index + length) < len(base_string):\n",
    "        \n",
    "        # Sliding window.\n",
    "        substring_to_test = base_string[index : (index + length)]\n",
    "        if substring_to_test == substring:\n",
    "            count += 1\n",
    "            \n",
    "        index += 1\n",
    "    \n",
    "    return count"
   ]
  },
  {
   "cell_type": "markdown",
   "metadata": {
    "slideshow": {
     "slide_type": "slide"
    }
   },
   "source": [
    "**Normalization by any other name**"
   ]
  },
  {
   "cell_type": "markdown",
   "metadata": {},
   "source": [
    "This confused some folks, namely because \"normalization\" can mean a lot of different things. In particular, two different types of normalization were conflated:"
   ]
  },
  {
   "cell_type": "markdown",
   "metadata": {
    "slideshow": {
     "slide_type": "fragment"
    }
   },
   "source": [
    "1: Rescale vector elements so the vector's magnitude is 1"
   ]
  },
  {
   "cell_type": "markdown",
   "metadata": {},
   "source": [
    " - NOT the same thing as having all the vector elements SUM to 1"
   ]
  },
  {
   "cell_type": "markdown",
   "metadata": {
    "slideshow": {
     "slide_type": "fragment"
    }
   },
   "source": [
    "2: Rescale vector elements so they all sum to 1"
   ]
  },
  {
   "cell_type": "markdown",
   "metadata": {},
   "source": [
    " - What the Bonus, Part B in A4 was actually asking for (even though the autograder was terrible)"
   ]
  },
  {
   "cell_type": "markdown",
   "metadata": {
    "slideshow": {
     "slide_type": "slide"
    }
   },
   "source": [
    "tl;dr These are both perfectly valid forms of normalization. It's just that the autograder was horrible. Here's what the spirit of the question was asking for:"
   ]
  },
  {
   "cell_type": "code",
   "execution_count": 29,
   "metadata": {},
   "outputs": [
    {
     "name": "stdout",
     "output_type": "stream",
     "text": [
      "100\n"
     ]
    }
   ],
   "source": [
    "numbers = [10, 20, 30, 40]\n",
    "print(sum(numbers))"
   ]
  },
  {
   "cell_type": "code",
   "execution_count": 30,
   "metadata": {},
   "outputs": [
    {
     "name": "stdout",
     "output_type": "stream",
     "text": [
      "1.0\n"
     ]
    }
   ],
   "source": [
    "numbers = [10/100, 20/100, 30/100, 40/100]\n",
    "# (0.1 + 0.2 + 0.3 + 0.4)  = 1.0\n",
    "print(sum(numbers))"
   ]
  },
  {
   "cell_type": "code",
   "execution_count": 31,
   "metadata": {
    "collapsed": true,
    "slideshow": {
     "slide_type": "slide"
    }
   },
   "outputs": [],
   "source": [
    "import numpy as np\n",
    "def normalize(something):\n",
    "\n",
    "    # Compute the normalizing constant\n",
    "    s = something.sum()\n",
    "    \n",
    "    # Use vectorized programming (broadcasting) to normalize each element\n",
    "    # without the need for any loops\n",
    "    normalized = (something / s)\n",
    "    \n",
    "    return normalized"
   ]
  },
  {
   "cell_type": "markdown",
   "metadata": {
    "slideshow": {
     "slide_type": "fragment"
    }
   },
   "source": [
    "This can then be condensed into the 3 lines required by the question:"
   ]
  },
  {
   "cell_type": "code",
   "execution_count": 32,
   "metadata": {
    "collapsed": true
   },
   "outputs": [],
   "source": [
    "import numpy as np  # 1\n",
    "def normalize(something):  # 2\n",
    "    return something / something.sum()  # 3"
   ]
  },
  {
   "cell_type": "markdown",
   "metadata": {
    "slideshow": {
     "slide_type": "slide"
    }
   },
   "source": [
    "### Good luck!\n",
    "\n",
    "![goodluck](MidtermReview/fb0b2527c77639a084af136144dff6eab5d6b53f314198a1fb6283c263e06a31.jpg)"
   ]
  }
 ],
 "metadata": {
  "celltoolbar": "Slideshow",
  "kernelspec": {
   "display_name": "Python 3",
   "language": "python",
   "name": "python3"
  },
  "language_info": {
   "codemirror_mode": {
    "name": "ipython",
    "version": 3
   },
   "file_extension": ".py",
   "mimetype": "text/x-python",
   "name": "python",
   "nbconvert_exporter": "python",
   "pygments_lexer": "ipython3",
   "version": "3.5.3"
  }
 },
 "nbformat": 4,
 "nbformat_minor": 1
}
