{
 "cells": [
  {
   "cell_type": "markdown",
   "metadata": {
    "nbgrader": {
     "grade": false,
     "grade_id": "bonus_prompt",
     "locked": true,
     "schema_version": 1,
     "solution": false
    }
   },
   "source": [
    "# BONUS\n",
    "\n",
    "scikit-image has some fairly impressive functionality, despite its relatively lightweight packaging. In fact, one submodule in particular can replicate almost the entirety of what you did in in this homework so far: `skimage.segmentation`. Check out [its documentation page](http://scikit-image.org/docs/dev/api/skimage.segmentation.html) and see if you can replicate your results.\n",
    "\n",
    "**You'll need to read in the `noisy.png` image (included with this assignment).** Experiment with the different segmentation functions available in the submodule and **plot the resulting segmentation maps.** No credit will be given unless there are accompanying segmentation plots!\n",
    "\n",
    "Except for that restriction, you're welcome to use NumPy and Matplotlib; you just can't use other segmentation techniques or strategies implemented elsewhere."
   ]
  },
  {
   "cell_type": "code",
   "execution_count": null,
   "metadata": {
    "collapsed": true,
    "nbgrader": {
     "grade": true,
     "grade_id": "bonus",
     "locked": false,
     "points": 20.0,
     "schema_version": 1,
     "solution": true
    }
   },
   "outputs": [],
   "source": []
  }
 ],
 "metadata": {
  "anaconda-cloud": {},
  "celltoolbar": "Create Assignment",
  "kernelspec": {
   "display_name": "Python 3",
   "language": "python",
   "name": "python3"
  },
  "language_info": {
   "codemirror_mode": {
    "name": "ipython",
    "version": 3
   },
   "file_extension": ".py",
   "mimetype": "text/x-python",
   "name": "python",
   "nbconvert_exporter": "python",
   "pygments_lexer": "ipython3",
   "version": "3.5.3"
  }
 },
 "nbformat": 4,
 "nbformat_minor": 1
}
