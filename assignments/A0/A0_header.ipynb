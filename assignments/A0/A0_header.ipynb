{
 "cells": [
  {
   "cell_type": "markdown",
   "metadata": {
    "nbgrader": {
     "grade": false,
     "grade_id": "a0_header",
     "locked": true,
     "schema_version": 1,
     "solution": false
    }
   },
   "source": [
    "# Assignment 0\n",
    "CSCI 1360E: Foundations for Informatics and Analytics"
   ]
  },
  {
   "cell_type": "markdown",
   "metadata": {
    "nbgrader": {
     "grade": false,
     "grade_id": "a0_dates",
     "locked": true,
     "schema_version": 1,
     "solution": false
    }
   },
   "source": [
    "## Important Dates\n",
    "\n",
    " - Released: 2017-06-08 at 1:00pm [EDT](http://www.timeanddate.com/worldclock/usa/athens)\n",
    " - Deadline: [no due date; but submission to JupyterHub is recommended]"
   ]
  },
  {
   "cell_type": "markdown",
   "metadata": {
    "nbgrader": {
     "grade": false,
     "grade_id": "a0_grades",
     "locked": true,
     "schema_version": 1,
     "solution": false
    }
   },
   "source": [
    "## Grading Breakdown\n",
    "\n",
    " - Q1: 25pts\n",
    " - Q2: 50pts\n",
    " - Q3: 25pts\n",
    " \n",
    "Total: 100pts (but not really)"
   ]
  },
  {
   "cell_type": "markdown",
   "metadata": {
    "nbgrader": {
     "grade": false,
     "grade_id": "a0_overview",
     "locked": true,
     "schema_version": 1,
     "solution": false
    }
   },
   "source": [
    "## Overview\n",
    "\n",
    "This assignment will introduce you to the basics of the online infrastructure we'll be using this semester and show you how to use them. In particular, we'll walk through how to\n",
    "\n",
    " 1. Log into JupyterHub and interact with any released assignments.\n",
    " 2. Open up a basic Python shell through JupyterHub.\n",
    " 3. Install Python on your local machine (OPTIONAL).\n",
    "\n",
    "Note the third point above: installing Python on your local machine is **optional**. However, it is nonetheless **highly recommended**. JupyterHub is great and can suffice if you don't want to bother yourself with installing Python, but if you don't have an internet connection and want/need to do some coding, you'll be out of luck if you don't have it already installed.\n",
    "\n",
    "Post any questions in `#questions`, or any technical issues in `#techprobs` on the Slack team."
   ]
  }
 ],
 "metadata": {
  "celltoolbar": "Create Assignment",
  "kernelspec": {
   "display_name": "Python 3",
   "language": "python",
   "name": "python3"
  },
  "language_info": {
   "codemirror_mode": {
    "name": "ipython",
    "version": 3
   },
   "file_extension": ".py",
   "mimetype": "text/x-python",
   "name": "python",
   "nbconvert_exporter": "python",
   "pygments_lexer": "ipython3",
   "version": "3.5.3"
  }
 },
 "nbformat": 4,
 "nbformat_minor": 1
}
