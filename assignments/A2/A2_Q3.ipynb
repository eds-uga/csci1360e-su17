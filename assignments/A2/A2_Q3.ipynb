{
 "cells": [
  {
   "cell_type": "markdown",
   "metadata": {
    "nbgrader": {
     "grade": false,
     "grade_id": "q3_prompt",
     "locked": true,
     "schema_version": 1,
     "solution": false
    }
   },
   "source": [
    "# Q3\n",
    "\n",
    "In this question, you'll be doing some error handling. There's only one function to finish coding below--the logger function--but there's a LOT of other code that's already written for you! This will start introducing you to working with existing codebases."
   ]
  },
  {
   "cell_type": "markdown",
   "metadata": {
    "nbgrader": {
     "grade": false,
     "grade_id": "q3a_prompt",
     "locked": true,
     "schema_version": 1,
     "solution": false
    }
   },
   "source": [
    "### Part A\n",
    "\n",
    "In this question, you'll write a logger. This is a critical component of any full-scale application: when something goes wrong, and you start the debugging process, it helps immensely to have logs of activity of your application to see where it started going off the rails.\n",
    "\n",
    "The log will take the form of a dictionary. The keys of the dictionary will be the name of the method called, and the value will be the integer code of the method's output. OR, in the case of an exception, the integer code of the exception. You can access this code in the `except` block:\n",
    "\n",
    "```\n",
    "try:\n",
    "    some_code\n",
    "except Exception as e:\n",
    "    e.value\n",
    "```\n",
    "    \n",
    "You'll need to save this `e.value` in your log dictionary for the output of the function call.\n",
    "\n",
    "Call the `unreliable` function three times, and store the output of each call in the dictionary with the corresponding key:\n",
    "\n",
    " - `unreliable1`\n",
    " - `unreliable2`\n",
    " - `unreliable3`\n",
    " \n",
    "Remember: the function output can take the form of its return value (if NO exception occurs), or the integer value of the exception (if an exception DOES occur).\n",
    "\n",
    "In summary, these are your goals:\n",
    " 1. In logger(), call the `unreliable()` function 3 separate times.\n",
    " 2. When calling `unreliable()`, wrap it in try / except blocks so no exceptions escape to crash the program\n",
    " 3. If an exception occurs, record the value of the exception to the dictionary for that function call\n",
    " 4. If NO exception occurs, record the return value of the function in the dictionary for that function call"
   ]
  },
  {
   "cell_type": "code",
   "execution_count": null,
   "metadata": {
    "collapsed": true,
    "nbgrader": {
     "grade": false,
     "grade_id": "q3a",
     "locked": false,
     "schema_version": 1,
     "solution": true
    }
   },
   "outputs": [],
   "source": [
    "# Finish the function \"logger\" below.\n",
    "#\n",
    "# Note that a dictionary \"logs\" has been created with 3 keys, all with values of 0.\n",
    "# To finish the code, you'll need to call the function \"unreliable\" three times--\n",
    "# one for each key in the dictionary.\n",
    "#\n",
    "# For the most part, \"unreliable()\" works correctly; if it does so, you need to put\n",
    "# its return value in the dictionary.\n",
    "#\n",
    "# However, sometimes it crashes. If it does, you'll need to\n",
    "#  1: Catch the exception gracefully (i.e. not crash Python), and\n",
    "#  2: Store the integer value of the exception in the dictionary\n",
    "#\n",
    "# Once you've called \"unreliable()\" three times and correctly stored the resulting\n",
    "# outputs in the logs dictionary, just return it and you're finished!\n",
    "\n",
    "def logger():\n",
    "    logs = {\n",
    "        'unreliable1': -1,\n",
    "        'unreliable2': -1,\n",
    "        'unreliable3': -1,\n",
    "    }\n",
    "    \n",
    "    ### BEGIN SOLUTION\n",
    "    \n",
    "    ### END SOLUTION\n",
    "    \n",
    "    return logs\n",
    "\n",
    "##################################\n",
    "# DON'T EDIT ANYTHING BELOW HERE #\n",
    "##################################\n",
    "\n",
    "# This is the error you'll have to protect against.\n",
    "class MyError(Exception):\n",
    "    def __init__(self, value):\n",
    "        self.value = value\n",
    "    def __str__(self):\n",
    "        return repr(self.value)\n",
    "\n",
    "# The following function does SUPER IMPORTANT THINGS!\n",
    "# However, it is very prone to throwing exceptions, so when\n",
    "# you call it, you'll need to properly protect the calls!\n",
    "import numpy as np\n",
    "def unreliable():\n",
    "    roll1 = np.random.randint(0, 2)\n",
    "    roll2 = np.random.randint(0, 2)\n",
    "    if roll1 == roll2:\n",
    "        raise MyError(roll1)\n",
    "    return np.random.randint(10, 1000000)"
   ]
  },
  {
   "cell_type": "code",
   "execution_count": null,
   "metadata": {
    "collapsed": true,
    "nbgrader": {
     "grade": true,
     "grade_id": "q3a_test1",
     "locked": true,
     "points": 10,
     "schema_version": 1,
     "solution": false
    }
   },
   "outputs": [],
   "source": [
    "import numpy as np\n",
    "np.random.seed(10)\n",
    "logs = logger()\n",
    "assert logs['unreliable1'] == 1\n",
    "assert logs['unreliable2'] == 443722\n",
    "assert logs['unreliable3'] == 1"
   ]
  },
  {
   "cell_type": "code",
   "execution_count": null,
   "metadata": {
    "collapsed": true,
    "nbgrader": {
     "grade": true,
     "grade_id": "q3a_test2",
     "locked": true,
     "points": 10,
     "schema_version": 1,
     "solution": false
    }
   },
   "outputs": [],
   "source": [
    "np.random.seed(381734)\n",
    "logs = logger()\n",
    "assert logs['unreliable1'] == 961845\n",
    "assert logs['unreliable2'] == 4913\n",
    "assert logs['unreliable3'] == 310226"
   ]
  },
  {
   "cell_type": "code",
   "execution_count": null,
   "metadata": {
    "collapsed": true,
    "nbgrader": {
     "grade": true,
     "grade_id": "q3a_test3",
     "locked": true,
     "points": 10,
     "schema_version": 1,
     "solution": false
    }
   },
   "outputs": [],
   "source": [
    "np.random.seed(75878432)\n",
    "logs = logger()\n",
    "assert logs['unreliable1'] == 174254\n",
    "assert logs['unreliable2'] == 1\n",
    "assert logs['unreliable3'] == 1"
   ]
  }
 ],
 "metadata": {
  "anaconda-cloud": {},
  "celltoolbar": "Create Assignment",
  "kernelspec": {
   "display_name": "Python 3",
   "language": "python",
   "name": "python3"
  },
  "language_info": {
   "codemirror_mode": {
    "name": "ipython",
    "version": 3
   },
   "file_extension": ".py",
   "mimetype": "text/x-python",
   "name": "python",
   "nbconvert_exporter": "python",
   "pygments_lexer": "ipython3",
   "version": "3.5.3"
  }
 },
 "nbformat": 4,
 "nbformat_minor": 1
}
